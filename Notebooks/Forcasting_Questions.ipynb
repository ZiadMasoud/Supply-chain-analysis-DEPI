{
 "cells": [
  {
   "cell_type": "code",
   "execution_count": null,
   "id": "a3edfeea",
   "metadata": {},
   "outputs": [],
   "source": []
  }
 ],
 "metadata": {
  "language_info": {
   "name": "python"
  }
 },
 "nbformat": 4,
 "nbformat_minor": 5
}
