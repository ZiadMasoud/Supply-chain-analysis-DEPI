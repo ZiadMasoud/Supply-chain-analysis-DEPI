{
 "cells": [],
 "metadata": {
  "language_info": {
   "name": "python"
  }
 },
 "nbformat": 4,
 "nbformat_minor": 5
}
https://colab.research.google.com/drive/1ipK4_PMpKVgq__lU-0bVgKYXIss15guB?usp=sharing 
